{
 "cells": [
  {
   "cell_type": "code",
   "execution_count": 5,
   "id": "720e79d9",
   "metadata": {},
   "outputs": [],
   "source": [
    "# Importing Libraries:\n",
    "import pandas as pd\n",
    "import os\n",
    "from sklearn.preprocessing import   (StandardScaler, \n",
    "                                   LabelEncoder)  \n",
    "\n",
    "from sklearn.linear_model import LogisticRegression\n",
    "from sklearn.model_selection import train_test_split\n",
    "from sklearn.metrics import (accuracy_score ,\n",
    "                            recall_score,\n",
    "                            confusion_matrix, \n",
    "                            precision_score,\n",
    "                            f1_score, \n",
    "                            accuracy_score,\n",
    "                            classification_report)"
   ]
  },
  {
   "cell_type": "code",
   "execution_count": 6,
   "id": "81cc2015",
   "metadata": {},
   "outputs": [],
   "source": [
    "DATA_PATH = \"../Data\""
   ]
  },
  {
   "cell_type": "markdown",
   "id": "8457f1d0",
   "metadata": {},
   "source": [
    "# Data Preparation:"
   ]
  },
  {
   "cell_type": "code",
   "execution_count": 7,
   "id": "57917b83",
   "metadata": {},
   "outputs": [
    {
     "data": {
      "text/plain": [
       "(7043, 21)"
      ]
     },
     "execution_count": 7,
     "metadata": {},
     "output_type": "execute_result"
    }
   ],
   "source": [
    "df = pd.read_csv(os.path.join(DATA_PATH, \"Telco-Customer-Churn.csv\"))\n",
    "df.shape"
   ]
  },
  {
   "cell_type": "code",
   "execution_count": 13,
   "id": "56aab8dc",
   "metadata": {},
   "outputs": [],
   "source": [
    "# removing unnecessary features\n",
    "cols_to_drop = ['gender', 'PhoneService', 'TotalCharges']"
   ]
  },
  {
   "cell_type": "code",
   "execution_count": null,
   "id": "b3ec8e58",
   "metadata": {},
   "outputs": [],
   "source": [
    "# Normalize Features:\n"
   ]
  },
  {
   "cell_type": "code",
   "execution_count": 14,
   "id": "3b4d6e18",
   "metadata": {},
   "outputs": [],
   "source": [
    "X = df.drop(columns=['Churn']+ cols_to_drop)\n",
    "y= df['Churn'].values"
   ]
  },
  {
   "cell_type": "markdown",
   "id": "a8d48807",
   "metadata": {},
   "source": [
    "# Data Splitting:"
   ]
  },
  {
   "cell_type": "code",
   "execution_count": 15,
   "id": "83f16dea",
   "metadata": {},
   "outputs": [
    {
     "data": {
      "text/plain": [
       "((4930, 17), (2113, 17))"
      ]
     },
     "execution_count": 15,
     "metadata": {},
     "output_type": "execute_result"
    }
   ],
   "source": [
    "X_train, X_test , y_train, y_test = train_test_split(X, y, test_size= 0.3, random_state= 42, stratify= y)\n",
    "\n",
    "X_train.shape, X_test.shape"
   ]
  },
  {
   "cell_type": "markdown",
   "id": "329fa87d",
   "metadata": {},
   "source": [
    "# Data Transformation"
   ]
  },
  {
   "cell_type": "code",
   "execution_count": null,
   "id": "739bca26",
   "metadata": {},
   "outputs": [],
   "source": []
  }
 ],
 "metadata": {
  "kernelspec": {
   "display_name": ".venv",
   "language": "python",
   "name": "python3"
  },
  "language_info": {
   "codemirror_mode": {
    "name": "ipython",
    "version": 3
   },
   "file_extension": ".py",
   "mimetype": "text/x-python",
   "name": "python",
   "nbconvert_exporter": "python",
   "pygments_lexer": "ipython3",
   "version": "3.13.1"
  }
 },
 "nbformat": 4,
 "nbformat_minor": 5
}
